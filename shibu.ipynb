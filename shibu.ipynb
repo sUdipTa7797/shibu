{
  "nbformat": 4,
  "nbformat_minor": 0,
  "metadata": {
    "colab": {
      "name": "shibu.ipynb",
      "provenance": [],
      "collapsed_sections": []
    },
    "kernelspec": {
      "name": "python3",
      "display_name": "Python 3"
    },
    "language_info": {
      "name": "python"
    }
  },
  "cells": [
    {
      "cell_type": "markdown",
      "metadata": {
        "id": "yh3_kYCi8AWx"
      },
      "source": [
        "## Matrix"
      ]
    },
    {
      "cell_type": "code",
      "metadata": {
        "colab": {
          "base_uri": "https://localhost:8080/"
        },
        "id": "YeP3oh3u8H-l",
        "outputId": "69be5b26-d599-4bc7-b499-857a0a74dd44"
      },
      "source": [
        "import numpy as np\n",
        "a=np.array([[3,-9],[2,4]])\n",
        "b=np.array([-42,2])\n",
        "z=np.linalg.solve(a,b)\n",
        "print(z)"
      ],
      "execution_count": 1,
      "outputs": [
        {
          "output_type": "stream",
          "text": [
            "[-5.  3.]\n"
          ],
          "name": "stdout"
        }
      ]
    },
    {
      "cell_type": "markdown",
      "metadata": {
        "id": "PiaAA5lV8kyc"
      },
      "source": [
        "## Voltage vs Current"
      ]
    },
    {
      "cell_type": "code",
      "metadata": {
        "colab": {
          "base_uri": "https://localhost:8080/",
          "height": 295
        },
        "id": "kjtbyV4D8jqw",
        "outputId": "fa5718a3-dbfd-42df-b58e-8211a0cafc48"
      },
      "source": [
        "from matplotlib.pyplot import *\n",
        "from math import *\n",
        "np=500\n",
        "xi=1\n",
        "xf=5\n",
        "h=(xf-xi)/(np-1)\n",
        "k=3.0\n",
        "x=[0.0]*np\n",
        "y=[0.0]*np\n",
        "s=[0.0]*np\n",
        "y1=[0.0]*np\n",
        "for i in range (0,np):\n",
        "\tx[i]=xi+i*h\n",
        "\ts[i]=log(x[i])\n",
        "\ty[i]=log(k)+s[i]\n",
        "\ty1[i]=k*x[i]\n",
        "\t\n",
        "\t\n",
        "\t\n",
        "plot(s,y,'.-r',x,y1,'.-b',s,y1,'.-g')\n",
        "xlabel('voltage')\n",
        "ylabel('current')\n",
        "legend(['log y vs log x', 'y vs x','y vs logx'])\n",
        "title('analog HW (AR SIR)')\n",
        "savefig('practice3.png')\n",
        "show()"
      ],
      "execution_count": 2,
      "outputs": [
        {
          "output_type": "display_data",
          "data": {
            "image/png": "[encoded data removed]",
            "text/plain": [
              "<Figure size 432x288 with 1 Axes>"
            ]
          },
          "metadata": {
            "tags": [],
            "needs_background": "light"
          }
        }
      ]
    }
  ]
}